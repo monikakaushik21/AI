{
  "nbformat": 4,
  "nbformat_minor": 0,
  "metadata": {
    "colab": {
      "provenance": [],
      "authorship_tag": "ABX9TyPbiAm39Y00zP/wRHY4FBxe",
      "include_colab_link": true
    },
    "kernelspec": {
      "name": "python3",
      "display_name": "Python 3"
    },
    "language_info": {
      "name": "python"
    }
  },
  "cells": [
    {
      "cell_type": "markdown",
      "metadata": {
        "id": "view-in-github",
        "colab_type": "text"
      },
      "source": [
        "<a href=\"https://colab.research.google.com/github/monikakaushik21/AI/blob/main/movie_recommender_system.ipynb\" target=\"_parent\"><img src=\"https://colab.research.google.com/assets/colab-badge.svg\" alt=\"Open In Colab\"/></a>"
      ]
    },
    {
      "cell_type": "code",
      "execution_count": null,
      "metadata": {
        "colab": {
          "base_uri": "https://localhost:8080/"
        },
        "id": "hfW_nRxD8r4d",
        "outputId": "0ab0b923-21f2-40c6-b5f6-676408eeaf6a"
      },
      "outputs": [
        {
          "output_type": "stream",
          "name": "stdout",
          "text": [
            "2                Interstellar\n",
            "0             The Dark Knight\n",
            "3    The Shawshank Redemption\n",
            "4                Pulp Fiction\n",
            "Name: title, dtype: object\n"
          ]
        }
      ],
      "source": [
        "import pandas as pd\n",
        "from sklearn.feature_extraction.text import TfidfVectorizer\n",
        "from sklearn.metrics.pairwise import linear_kernel\n",
        "\n",
        "# Sample movie dataset\n",
        "data = {\n",
        "    'title': ['The Dark Knight', 'Inception', 'Interstellar', 'The Shawshank Redemption', 'Pulp Fiction'],\n",
        "    'genre': ['Action, Crime, Drama', 'Action, Adventure, Sci-Fi', 'Adventure, Drama, Sci-Fi', 'Drama', 'Crime, Drama'],\n",
        "    'description': ['When the menace known as the Joker wreaks havoc and chaos on the people of Gotham, Batman must accept one of the greatest psychological and physical tests of his ability to fight injustice.',\n",
        "                    'A thief who steals corporate secrets through the use of dream-sharing technology is given the inverse task of planting an idea into the mind of a C.E.O.',\n",
        "                    'A team of explorers travel through a wormhole in space in an attempt to ensure humanity\\'s survival.',\n",
        "                    'Two imprisoned men bond over a number of years, finding solace and eventual redemption through acts of common decency.',\n",
        "                    'The lives of two mob hitmen, a boxer, a gangster and his wife, and a pair of diner bandits intertwine in four tales of violence and redemption.'\n",
        "                   ]\n",
        "}\n",
        "\n",
        "# Create DataFrame\n",
        "movies_df = pd.DataFrame(data)\n",
        "\n",
        "# Initialize TF-IDF Vectorizer\n",
        "tfidf_vectorizer = TfidfVectorizer(stop_words='english')\n",
        "\n",
        "# Fit and transform the 'genre' column\n",
        "tfidf_matrix = tfidf_vectorizer.fit_transform(movies_df['genre'])\n",
        "\n",
        "# Compute the cosine similarity matrix\n",
        "cosine_sim = linear_kernel(tfidf_matrix, tfidf_matrix)\n",
        "\n",
        "def recommend_movies(title, cosine_sim=cosine_sim):\n",
        "    # Get the index of the movie that matches the title\n",
        "    idx = movies_df[movies_df['title'] == title].index[0]\n",
        "\n",
        "    # Get the pairwise similarity scores of all movies with that movie\n",
        "    sim_scores = list(enumerate(cosine_sim[idx]))\n",
        "\n",
        "    # Sort the movies based on the similarity scores\n",
        "    sim_scores = sorted(sim_scores, key=lambda x: x[1], reverse=True)\n",
        "\n",
        "    # Get the top 5 most similar movies\n",
        "    sim_scores = sim_scores[1:6]\n",
        "\n",
        "    # Get the movie indices\n",
        "    movie_indices = [i[0] for i in sim_scores]\n",
        "\n",
        "    # Return the top 5 most similar movies\n",
        "    return movies_df['title'].iloc[movie_indices]\n",
        "\n",
        "# Example usage\n",
        "recommended_movies = recommend_movies('Inception')\n",
        "print(recommended_movies)\n"
      ]
    },
    {
      "cell_type": "code",
      "source": [],
      "metadata": {
        "id": "0cQ6fTub9F-7"
      },
      "execution_count": null,
      "outputs": []
    }
  ]
}