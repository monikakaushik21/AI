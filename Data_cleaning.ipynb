{
  "nbformat": 4,
  "nbformat_minor": 0,
  "metadata": {
    "colab": {
      "provenance": [],
      "authorship_tag": "ABX9TyMvRv9q0Gbxwe5Uumvrojzx",
      "include_colab_link": true
    },
    "kernelspec": {
      "name": "python3",
      "display_name": "Python 3"
    },
    "language_info": {
      "name": "python"
    }
  },
  "cells": [
    {
      "cell_type": "markdown",
      "metadata": {
        "id": "view-in-github",
        "colab_type": "text"
      },
      "source": [
        "<a href=\"https://colab.research.google.com/github/monikakaushik21/AI/blob/main/Data_cleaning.ipynb\" target=\"_parent\"><img src=\"https://colab.research.google.com/assets/colab-badge.svg\" alt=\"Open In Colab\"/></a>"
      ]
    },
    {
      "cell_type": "code",
      "execution_count": 1,
      "metadata": {
        "id": "VZ_mQNjpyjjH"
      },
      "outputs": [],
      "source": [
        "import pandas as pd\n",
        "import numpy as np"
      ]
    },
    {
      "cell_type": "code",
      "source": [
        "# Create the dataset\n",
        "data = {\n",
        "    'ID': [1, 2, 3, 4, 5, 6, 7, 8, 9, 10, 11, 12, 30],\n",
        "    'Name': ['John Doe', 'Jane Smith', 'Alice Brown', 'Bob Johnson', 'Charlie Lee', np.nan, 'Ella White', np.nan, 'Henry Clark', 'Isaac Wood', 'Jodie Hall', 'Kevin Price', 'Zoe Green'],\n",
        "    'Age': [28, 32, np.nan, 45, 29, 26, 31, 39, np.nan, 34, np.nan, 44, 27],\n",
        "    'Email': ['john.doe@example.com', 'jane.smith@example.com', 'alice.brown@company.com', np.nan, 'charlie.lee@example.com', 'david.wong@example.com', 'ella.white@company.com', 'george.harris@example.com', np.nan, 'isaac.wood@example.com', 'jodie.hall@company.com', 'kevin.price@example.com', 'zoe.green@example.com'],\n",
        "    'Date of Joining': ['15-01-2020', '01-08-2019', '10-03-2021', '22-07-2018', '01-12-2021', '14-05-2020', '17-09-2019', '23-11-2020', np.nan, '30-11-2019', '18-04-2021', np.nan, '29-10-2021'],\n",
        "    'Salary': [50000, 60000, np.nan, 70000, 55000, 48000, np.nan, 62000, 53000, 59000, 64000, np.nan, 52000],\n",
        "    'Department': ['Sales', 'Marketing', 'HR', 'IT', 'Sales', 'Marketing', 'IT', 'HR', 'Marketing', 'Sales', 'HR', 'IT', 'Marketing']\n",
        "}"
      ],
      "metadata": {
        "id": "WTQiAR3FytPv"
      },
      "execution_count": 2,
      "outputs": []
    },
    {
      "cell_type": "code",
      "source": [
        "data"
      ],
      "metadata": {
        "colab": {
          "base_uri": "https://localhost:8080/"
        },
        "id": "QpsrpoQ4y1VX",
        "outputId": "0347a13d-1d80-4233-f66a-6bf04a39fe90"
      },
      "execution_count": 3,
      "outputs": [
        {
          "output_type": "execute_result",
          "data": {
            "text/plain": [
              "{'ID': [1, 2, 3, 4, 5, 6, 7, 8, 9, 10, 11, 12, 30],\n",
              " 'Name': ['John Doe',\n",
              "  'Jane Smith',\n",
              "  'Alice Brown',\n",
              "  'Bob Johnson',\n",
              "  'Charlie Lee',\n",
              "  nan,\n",
              "  'Ella White',\n",
              "  nan,\n",
              "  'Henry Clark',\n",
              "  'Isaac Wood',\n",
              "  'Jodie Hall',\n",
              "  'Kevin Price',\n",
              "  'Zoe Green'],\n",
              " 'Age': [28, 32, nan, 45, 29, 26, 31, 39, nan, 34, nan, 44, 27],\n",
              " 'Email': ['john.doe@example.com',\n",
              "  'jane.smith@example.com',\n",
              "  'alice.brown@company.com',\n",
              "  nan,\n",
              "  'charlie.lee@example.com',\n",
              "  'david.wong@example.com',\n",
              "  'ella.white@company.com',\n",
              "  'george.harris@example.com',\n",
              "  nan,\n",
              "  'isaac.wood@example.com',\n",
              "  'jodie.hall@company.com',\n",
              "  'kevin.price@example.com',\n",
              "  'zoe.green@example.com'],\n",
              " 'Date of Joining': ['15-01-2020',\n",
              "  '01-08-2019',\n",
              "  '10-03-2021',\n",
              "  '22-07-2018',\n",
              "  '01-12-2021',\n",
              "  '14-05-2020',\n",
              "  '17-09-2019',\n",
              "  '23-11-2020',\n",
              "  nan,\n",
              "  '30-11-2019',\n",
              "  '18-04-2021',\n",
              "  nan,\n",
              "  '29-10-2021'],\n",
              " 'Salary': [50000,\n",
              "  60000,\n",
              "  nan,\n",
              "  70000,\n",
              "  55000,\n",
              "  48000,\n",
              "  nan,\n",
              "  62000,\n",
              "  53000,\n",
              "  59000,\n",
              "  64000,\n",
              "  nan,\n",
              "  52000],\n",
              " 'Department': ['Sales',\n",
              "  'Marketing',\n",
              "  'HR',\n",
              "  'IT',\n",
              "  'Sales',\n",
              "  'Marketing',\n",
              "  'IT',\n",
              "  'HR',\n",
              "  'Marketing',\n",
              "  'Sales',\n",
              "  'HR',\n",
              "  'IT',\n",
              "  'Marketing']}"
            ]
          },
          "metadata": {},
          "execution_count": 3
        }
      ]
    },
    {
      "cell_type": "code",
      "source": [
        "# Convert the dataset to a DataFrame\n",
        "df = pd.DataFrame(data)\n",
        "\n",
        "# 1. Handling Missing Values\n",
        "\n",
        "# Drop rows where 'Name' or 'ID' is missing (Assuming these fields are critical)\n",
        "df.dropna(subset=['Name', 'ID'], inplace=True)\n",
        "\n",
        "# Fill missing 'Age' values with the mean age\n",
        "df['Age'].fillna(df['Age'].mean(), inplace=True)\n",
        "\n",
        "# Fill missing 'Salary' with the median salary\n",
        "df['Salary'].fillna(df['Salary'].median(), inplace=True)\n",
        "\n",
        "# Fill missing 'Email' with 'No Email' placeholder\n",
        "df['Email'].fillna('No Email', inplace=True)\n",
        "\n",
        "# Fill missing 'Date of Joining' with 'Unknown'\n",
        "df['Date of Joining'].fillna('Unknown', inplace=True)\n",
        "\n",
        "# 2. Data Type Conversion\n",
        "\n",
        "# Convert 'Date of Joining' to datetime format\n",
        "df['Date of Joining'] = pd.to_datetime(df['Date of Joining'], format='%d-%m-%Y', errors='coerce')\n",
        "\n",
        "# 3. Remove Duplicates (if any)\n",
        "df.drop_duplicates(inplace=True)\n",
        "\n",
        "# 4. Standardizing Data (e.g., converting department names to title case)\n",
        "df['Department'] = df['Department'].str.title()\n",
        "\n",
        "# 5. Correcting or Removing Invalid Data\n",
        "# Example: Ensure all salaries are positive numbers\n",
        "df = df[df['Salary'] > 0]\n",
        "\n",
        "# Display the cleaned DataFrame\n",
        "print(df)"
      ],
      "metadata": {
        "colab": {
          "base_uri": "https://localhost:8080/"
        },
        "id": "bqBeDxDHy35E",
        "outputId": "33ab68bf-a812-4953-fae5-d3f66d5f9a26"
      },
      "execution_count": 4,
      "outputs": [
        {
          "output_type": "stream",
          "name": "stdout",
          "text": [
            "    ID         Name    Age                    Email Date of Joining   Salary  \\\n",
            "0    1     John Doe  28.00     john.doe@example.com      2020-01-15  50000.0   \n",
            "1    2   Jane Smith  32.00   jane.smith@example.com      2019-08-01  60000.0   \n",
            "2    3  Alice Brown  33.75  alice.brown@company.com      2021-03-10  57000.0   \n",
            "3    4  Bob Johnson  45.00                 No Email      2018-07-22  70000.0   \n",
            "4    5  Charlie Lee  29.00  charlie.lee@example.com      2021-12-01  55000.0   \n",
            "6    7   Ella White  31.00   ella.white@company.com      2019-09-17  57000.0   \n",
            "8    9  Henry Clark  33.75                 No Email             NaT  53000.0   \n",
            "9   10   Isaac Wood  34.00   isaac.wood@example.com      2019-11-30  59000.0   \n",
            "10  11   Jodie Hall  33.75   jodie.hall@company.com      2021-04-18  64000.0   \n",
            "11  12  Kevin Price  44.00  kevin.price@example.com             NaT  57000.0   \n",
            "12  30    Zoe Green  27.00    zoe.green@example.com      2021-10-29  52000.0   \n",
            "\n",
            "   Department  \n",
            "0       Sales  \n",
            "1   Marketing  \n",
            "2          Hr  \n",
            "3          It  \n",
            "4       Sales  \n",
            "6          It  \n",
            "8   Marketing  \n",
            "9       Sales  \n",
            "10         Hr  \n",
            "11         It  \n",
            "12  Marketing  \n"
          ]
        },
        {
          "output_type": "stream",
          "name": "stderr",
          "text": [
            "<ipython-input-4-fb6a43964f62>:10: FutureWarning: A value is trying to be set on a copy of a DataFrame or Series through chained assignment using an inplace method.\n",
            "The behavior will change in pandas 3.0. This inplace method will never work because the intermediate object on which we are setting values always behaves as a copy.\n",
            "\n",
            "For example, when doing 'df[col].method(value, inplace=True)', try using 'df.method({col: value}, inplace=True)' or df[col] = df[col].method(value) instead, to perform the operation inplace on the original object.\n",
            "\n",
            "\n",
            "  df['Age'].fillna(df['Age'].mean(), inplace=True)\n",
            "<ipython-input-4-fb6a43964f62>:13: FutureWarning: A value is trying to be set on a copy of a DataFrame or Series through chained assignment using an inplace method.\n",
            "The behavior will change in pandas 3.0. This inplace method will never work because the intermediate object on which we are setting values always behaves as a copy.\n",
            "\n",
            "For example, when doing 'df[col].method(value, inplace=True)', try using 'df.method({col: value}, inplace=True)' or df[col] = df[col].method(value) instead, to perform the operation inplace on the original object.\n",
            "\n",
            "\n",
            "  df['Salary'].fillna(df['Salary'].median(), inplace=True)\n",
            "<ipython-input-4-fb6a43964f62>:16: FutureWarning: A value is trying to be set on a copy of a DataFrame or Series through chained assignment using an inplace method.\n",
            "The behavior will change in pandas 3.0. This inplace method will never work because the intermediate object on which we are setting values always behaves as a copy.\n",
            "\n",
            "For example, when doing 'df[col].method(value, inplace=True)', try using 'df.method({col: value}, inplace=True)' or df[col] = df[col].method(value) instead, to perform the operation inplace on the original object.\n",
            "\n",
            "\n",
            "  df['Email'].fillna('No Email', inplace=True)\n",
            "<ipython-input-4-fb6a43964f62>:19: FutureWarning: A value is trying to be set on a copy of a DataFrame or Series through chained assignment using an inplace method.\n",
            "The behavior will change in pandas 3.0. This inplace method will never work because the intermediate object on which we are setting values always behaves as a copy.\n",
            "\n",
            "For example, when doing 'df[col].method(value, inplace=True)', try using 'df.method({col: value}, inplace=True)' or df[col] = df[col].method(value) instead, to perform the operation inplace on the original object.\n",
            "\n",
            "\n",
            "  df['Date of Joining'].fillna('Unknown', inplace=True)\n"
          ]
        }
      ]
    }
  ]
}