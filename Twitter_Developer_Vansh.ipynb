{
  "nbformat": 4,
  "nbformat_minor": 0,
  "metadata": {
    "colab": {
      "provenance": [],
      "include_colab_link": true
    },
    "kernelspec": {
      "name": "python3",
      "display_name": "Python 3"
    },
    "language_info": {
      "name": "python"
    }
  },
  "cells": [
    {
      "cell_type": "markdown",
      "metadata": {
        "id": "view-in-github",
        "colab_type": "text"
      },
      "source": [
        "<a href=\"https://colab.research.google.com/github/monikakaushik21/AI/blob/main/Twitter_Developer_Vansh.ipynb\" target=\"_parent\"><img src=\"https://colab.research.google.com/assets/colab-badge.svg\" alt=\"Open In Colab\"/></a>"
      ]
    },
    {
      "cell_type": "code",
      "execution_count": null,
      "metadata": {
        "colab": {
          "base_uri": "https://localhost:8080/"
        },
        "id": "OrgUn4UUwGsL",
        "outputId": "c90d9688-11d8-4bec-c469-82ef4a2e3426"
      },
      "outputs": [
        {
          "output_type": "stream",
          "name": "stdout",
          "text": [
            "No tweets found.\n"
          ]
        }
      ],
      "source": [
        "import tweepy\n",
        "\n",
        "# Replace with your Twitter Developer Account credentials\n",
        "API_KEY = \"K0YKIt97mWkM8hN3WaIBigK48\"\n",
        "API_SECRET = \"tOiEU04pVUAWiHOVBq3j0w90Eq3MADocqxjR3BkKq5AeiDPwfq\"\n",
        "ACCESS_TOKEN = \"1902216783563788288-vSb8XfgSUfopanGqogkA1zdIszDr96\"\n",
        "ACCESS_SECRET = \"IMOD2pXwQSKJ53ZP38k9SMhs3m8OdPMUrBsmIthx6Wqf0\"\n",
        "BEARER_TOKEN =\"AAAAAAAAAAAAAAAAAAAAAJAh0AEAAAAA6JrYv9bo1AaftnUAe%2FslSuW9Rl8%3D6hnis5WR308kH5ugYm6jHuuJKu5mdbBpvJzlqpdzO0ZfgAeqkz\"\n",
        "\n",
        "# Authenticate\n",
        "client = tweepy.Client(bearer_token=BEARER_TOKEN)\n",
        "\n",
        "# Step 1: Get user ID from username\n",
        "username = \"VanshJainn\"  # Replace with any username\n",
        "user = client.get_user(username=username)\n",
        "user_id = user.data.id  # Extract the user ID\n",
        "\n",
        "# Step 2: Fetch tweets from the user\n",
        "tweets = client.get_users_tweets(id=user_id, max_results=10)\n",
        "\n",
        "# Step 3: Print the tweets\n",
        "if tweets.data:\n",
        "    for tweet in tweets.data:\n",
        "        print(tweet.text)\n",
        "else:\n",
        "    print(\"No tweets found.\")\n"
      ]
    },
    {
      "cell_type": "code",
      "source": [
        "import tweepy\n",
        "import time\n",
        "\n",
        "\n",
        "# Replace with your Twitter Developer Account credentials\n",
        "BEARER_TOKEN =\"AAAAAAAAAAAAAAAAAAAAAJAh0AEAAAAA6JrYv9bo1AaftnUAe%2FslSuW9Rl8%3D6hnis5WR308kH5ugYm6jHuuJKu5mdbBpvJzlqpdzO0ZfgAeqkz\" # Use only Bearer Token for API v2\n",
        "\n",
        "# Authenticate using OAuth 2.0 (Only Bearer Token needed)\n",
        "client = tweepy.Client(bearer_token=BEARER_TOKEN)\n",
        "\n",
        "# Your own Twitter username\n",
        "username = \"VanshJainn\"  # Replace with your actual Twitter handle\n",
        "\n",
        "\n",
        "def fetch_tweets_with_retry():\n",
        "    retries = 3  # Number of times to retry on rate limit\n",
        "    for attempt in range(retries):\n",
        "        try:\n",
        "            # Get user ID based on username (API v2 allows this)\n",
        "            user = client.get_user(username=username, user_fields=[\"id\"])\n",
        "            user_id = user.data.id  # Extract the user ID\n",
        "\n",
        "            # Fetch latest 10 tweets from your own account\n",
        "            tweets = client.get_users_tweets(id=user_id, max_results=10)\n",
        "\n",
        "\n",
        "# Print tweets\n",
        "            if tweets.data:\n",
        "                for tweet in tweets.data:\n",
        "                    print(f\"{tweet.created_at} - {tweet.text}\\n\")\n",
        "            else:\n",
        "                print(\"No tweets found.\")\n",
        "\n",
        "            break  # Exit loop if successful\n",
        "\n",
        "        except tweepy.TooManyRequests as e:\n",
        "            print(f\"Rate limit exceeded. Retrying in 60 seconds... (Attempt {attempt + 1}/{retries})\")\n",
        "            time.sleep(60)  # Wait 60 seconds before retrying\n",
        "\n",
        "        except tweepy.TweepyException as e:\n",
        "            print(f\"Error: {e}\")\n",
        "            break  # Stop retries if other errors occur\n",
        "\n",
        "# Run the function\n",
        "fetch_tweets_with_retry()\n"
      ],
      "metadata": {
        "colab": {
          "base_uri": "https://localhost:8080/"
        },
        "id": "sN3qXWet04Hc",
        "outputId": "684083ec-247d-4f95-df8b-676880a9d825"
      },
      "execution_count": null,
      "outputs": [
        {
          "output_type": "stream",
          "name": "stdout",
          "text": [
            "No tweets found.\n"
          ]
        }
      ]
    },
    {
      "cell_type": "code",
      "source": [
        "import tweepy\n",
        "import time\n",
        "\n",
        "# Replace with your Twitter Developer Account credentials\n",
        "BEARER_TOKEN =\"AAAAAAAAAAAAAAAAAAAAAJAh0AEAAAAA6JrYv9bo1AaftnUAe%2FslSuW9Rl8%3D6hnis5WR308kH5ugYm6jHuuJKu5mdbBpvJzlqpdzO0ZfgAeqkz\"\n",
        "\n",
        "# Authenticate using OAuth 2.0 (Bearer Token)\n",
        "client = tweepy.Client(bearer_token=BEARER_TOKEN)\n",
        "\n",
        "def fetch_recent_tweets(keyword, max_tweets=100):\n",
        "    query = f\"{keyword} -is:retweet lang:en\"  # Remove retweets & filter English tweets\n",
        "    tweets = []\n",
        "\n",
        "    try:\n",
        "        response = client.search_recent_tweets(query=query, max_results=10, tweet_fields=[\"created_at\", \"text\"])\n",
        "        if response.data:\n",
        "            for tweet in response.data:\n",
        "                tweets.append(f\"{tweet.created_at} - {tweet.text}\")\n",
        "        else:\n",
        "            print(\"No recent tweets found.\")\n",
        "\n",
        "    except tweepy.TooManyRequests:\n",
        "        print(\"Rate limit exceeded. Retrying in 60 seconds...\")\n",
        "        time.sleep(60)\n",
        "        return fetch_recent_tweets(keyword, max_tweets)\n",
        "    except tweepy.TweepyException as e:\n",
        "        print(f\"Error: {e}\")\n",
        "\n",
        "    return tweets\n",
        "\n",
        "# Fetch latest tweets related to \"Delhi Elections\"\n",
        "tweets = fetch_recent_tweets(\"Delhi Elections\")\n",
        "for tweet in tweets:\n",
        "    print(tweet)\n"
      ],
      "metadata": {
        "colab": {
          "base_uri": "https://localhost:8080/"
        },
        "id": "cFmt4p0p1vBZ",
        "outputId": "c2de5d86-affd-4e9d-d4e8-285daeb57fcd"
      },
      "execution_count": null,
      "outputs": [
        {
          "output_type": "stream",
          "name": "stdout",
          "text": [
            "2025-03-19 05:19:43+00:00 - Patna, Bihar: On ED questioning RJD leaders Rabri Devi and Tej Pratap Yadav, RJD leader Tejashwi Yadav says, \"After the Delhi elections, they are still asking questions. The BJP's entire IT cell and teams seem focused only on Bihar. It doesn't affect us at all. People come and… https://t.co/xIGqPVQYiM https://t.co/uvtQqd8lAJ\n",
            "2025-03-19 05:18:13+00:00 - @Amockx2022 @dhruv_rathee First win elections you fool !! Delhi was a big ZERO if you remember. HATTRICK ZERO\n",
            "2025-03-19 05:14:53+00:00 - As an independent observer, it seems Arvind Kejriwal was likely wrongly targeted in the Delhi liquor policy case. The evidence appears weak, with him and others granted bail, and the arrest’s timing before elections suggests political motives. https://t.co/aY6RB25eBp\n",
            "2025-03-19 04:57:47+00:00 - @AtishiAAP Love that Sunita and team are back! I asked and it was done! But, Elon Musk, Trump and Modi prevented Sunita and team from returning to Earth until after the elections! \n",
            "\n",
            "@AtishiAAP, You lost the Delhi CM election because you were excited about Musk (from apartheid S Africa!\n",
            "2025-03-19 04:42:32+00:00 - #WATCH | Delhi | On Election Commission of India (ECI) linking Voter ID with Aadhaar, Congress MP Pramod Tiwari says, \"... 48 lakh (Voter ID) cards were made in Maharashtra during the Lok Sabha and Vidhan Sabha elections, all of which voted for the same party… Many (Voter ID)… https://t.co/YCO1F2jPw4 https://t.co/W73iaLWOqi\n",
            "2025-03-19 04:17:44+00:00 - @counterlibra936 @RisingPiku @grok Hey @grok how many voters were added and deleted in Delhi after 2024 Lok Sabha elections\n",
            "2025-03-19 04:16:23+00:00 - @AshishSinghKiJi Popular leader Raul Vinci Khandi Burst befitting reply to BJP and Narendra Modi...But voters of India giving befitting reply to popular F00L Khan di. Recently even in Delhi Elections.\n",
            "2025-03-19 04:15:24+00:00 - @counterlibra936 @DaaruBaazMehta @grok Hey @grok how many voters were added and deleted in Delhi after 2024 Lok Sabha elections\n",
            "2025-03-19 04:03:20+00:00 - @rishibagree @AstroSharmistha @AstroSharmistha prediction on LS elections Delhi election Waqf bill market correction turned out to be true.  Not to take it lightly!\n",
            "2025-03-19 03:55:45+00:00 - The Delhi high court refused to immediately stay trial court proceedings against law minister Kapil Mishra over his allegedly inflammatory tweets ahead of the 2020 assembly elections.\n",
            "\n",
            "Read more here: https://t.co/8J7Y1C1Uaj\n",
            "\n",
            "(Reports @Shrutikakk) https://t.co/OetD6ufg87\n"
          ]
        }
      ]
    }
  ]
}